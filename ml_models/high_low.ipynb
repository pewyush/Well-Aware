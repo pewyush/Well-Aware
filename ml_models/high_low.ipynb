{
 "cells": [
  {
   "cell_type": "code",
   "execution_count": 1,
   "id": "18af28ed",
   "metadata": {},
   "outputs": [],
   "source": [
    "from sklearn.ensemble import RandomForestRegressor\n",
    "from sklearn.model_selection import train_test_split\n",
    "import joblib"
   ]
  },
  {
   "cell_type": "code",
   "execution_count": null,
   "id": "c344a004",
   "metadata": {},
   "outputs": [],
   "source": [
    "import pandas as pd\n",
    "import joblib\n",
    "from sklearn.ensemble import RandomForestRegressor\n",
    "import os\n",
    "\n",
    "# folder containing preprocessed CSVs\n",
    "DATA_DIR = \"data/processed/\"\n",
    "MODEL_DIR = \"models/\"\n",
    "\n",
    "if not os.path.exists(MODEL_DIR):\n",
    "    os.makedirs(MODEL_DIR)\n",
    "\n",
    "# list all CSV files in processed folder\n",
    "files = [f for f in os.listdir(DATA_DIR) if f.endswith(\".csv\")]\n",
    "\n",
    "# features to use\n",
    "FEATURES = [\"Close\", \"High\", \"Low\", \"Open\", \"Volume\", \"daily_return\", \"vol_20\", \"sentiment\"]\n",
    "\n",
    "# dictionary to store trained models\n",
    "models = {}\n",
    "\n",
    "for file in files:\n",
    "    ticker = file.split(\".\")[0]\n",
    "    df = pd.read_csv(os.path.join(DATA_DIR, file))\n",
    "    \n",
    "    # create target column for next day close\n",
    "    df['target'] = df['Close'].shift(-1)\n",
    "    df.dropna(inplace=True)\n",
    "    \n",
    "    X = df[FEATURES]\n",
    "    y = df['target']\n",
    "    \n",
    "    # simple time-series split: first 80% train, last 20% test\n",
    "    split = int(len(df)*0.8)\n",
    "    X_train, X_test = X.iloc[:split], X.iloc[split:]\n",
    "    y_train, y_test = y.iloc[:split], y.iloc[split:]\n",
    "    \n",
    "    # train model\n",
    "    model = RandomForestRegressor(n_estimators=100, random_state=42)\n",
    "    model.fit(X_train, y_train)\n",
    "    models[ticker] = model\n",
    "    \n",
    "    # save model\n",
    "    joblib.dump(model, os.path.join(MODEL_DIR, f\"{ticker}_rf.pkl\"))\n",
    "    print(f\"Trained and saved model for {ticker}\")"
   ]
  }
 ],
 "metadata": {
  "kernelspec": {
   "display_name": "venv",
   "language": "python",
   "name": "python3"
  },
  "language_info": {
   "codemirror_mode": {
    "name": "ipython",
    "version": 3
   },
   "file_extension": ".py",
   "mimetype": "text/x-python",
   "name": "python",
   "nbconvert_exporter": "python",
   "pygments_lexer": "ipython3",
   "version": "3.13.5"
  }
 },
 "nbformat": 4,
 "nbformat_minor": 5
}
